{
 "cells": [
  {
   "cell_type": "markdown",
   "metadata": {},
   "source": [
    "# INSTALL JULIA - COLAB\n",
    "\n",
    "PEGUE O SCRIPT DE TEMPLATE [AQUI](https://colab.research.google.com/drive/1lLHnAUl1kqPB6Fc1tF9r19om24DbYYFh)!"
   ]
  },
  {
   "cell_type": "code",
   "execution_count": null,
   "metadata": {},
   "outputs": [],
   "source": [
    "# %%shell\n",
    "# set -e\n",
    "\n",
    "# #---------------------------------------------------#\n",
    "# JULIA_VERSION=\"1.10.4\" # any version ≥ 0.7.0\n",
    "# JULIA_PACKAGES=\"IJulia BenchmarkTools Plots\"\n",
    "# JULIA_NUM_THREADS=2\n",
    "# #---------------------------------------------------#\n",
    "\n",
    "# if [ -z `which julia` ]; then\n",
    "# # Install Julia\n",
    "# JULIA_VER=`cut -d '.' -f -2 <<< \"$JULIA_VERSION\"`\n",
    "# echo \"Installing Julia $JULIA_VERSION on the current Colab Runtime...\"\n",
    "# BASE_URL=\"https://julialang-s3.julialang.org/bin/linux/x64\"\n",
    "# URL=\"$BASE_URL/$JULIA_VER/julia-$JULIA_VERSION-linux-x86_64.tar.gz\"\n",
    "# wget -nv $URL -O /tmp/julia.tar.gz # -nv means \"not verbose\"\n",
    "# tar -x -f /tmp/julia.tar.gz -C /usr/local --strip-components 1\n",
    "# rm /tmp/julia.tar.gz\n",
    "\n",
    "# # Install Packages\n",
    "# for PKG in `echo $JULIA_PACKAGES`; do\n",
    "#     echo \"Installing Julia package $PKG...\"\n",
    "#     julia -e 'using Pkg; pkg\"add '$PKG'; precompile;\"' &> /dev/null\n",
    "# done\n",
    "\n",
    "# # Install kernel and rename it to \"julia\"\n",
    "# echo \"Installing IJulia kernel...\"\n",
    "# julia -e 'using IJulia; IJulia.installkernel(\"julia\", env=Dict(\n",
    "#     \"JULIA_NUM_THREADS\"=>\"'\"$JULIA_NUM_THREADS\"'\"))'\n",
    "# KERNEL_DIR=`julia -e \"using IJulia; print(IJulia.kerneldir())\"`\n",
    "# KERNEL_NAME=`ls -d \"$KERNEL_DIR\"/julia*`\n",
    "# mv -f $KERNEL_NAME \"$KERNEL_DIR\"/julia\n",
    "\n",
    "# echo ''\n",
    "# echo \"Successfully installed `julia -v`!\"\n",
    "# echo \"Please reload this page (press Ctrl+R or F5) then\"\n",
    "# echo \"jump to the 'Checking the Installation' section.\"\n",
    "# fi"
   ]
  },
  {
   "cell_type": "code",
   "execution_count": null,
   "metadata": {},
   "outputs": [],
   "source": [
    "versioninfo()"
   ]
  },
  {
   "cell_type": "markdown",
   "metadata": {},
   "source": [
    "# PROJETO 2"
   ]
  },
  {
   "cell_type": "markdown",
   "metadata": {},
   "source": [
    "## LIBS"
   ]
  },
  {
   "cell_type": "code",
   "execution_count": null,
   "metadata": {},
   "outputs": [],
   "source": [
    "using Statistics, DataStructures, Plots"
   ]
  },
  {
   "cell_type": "markdown",
   "metadata": {},
   "source": [
    "## VARS & VECS"
   ]
  },
  {
   "cell_type": "code",
   "execution_count": null,
   "metadata": {},
   "outputs": [],
   "source": [
    "# Inicializando Lista de vetores e tempos\n",
    "array_size = [10^i for i in 4:8]\n",
    "array_list = [rand(1:10^3, i) for i in array_size]\n",
    "\n",
    "bubblesort_time = zeros(length(array_size))\n",
    "heapsort_time = zeros(length(array_size))"
   ]
  },
  {
   "cell_type": "markdown",
   "metadata": {},
   "source": [
    "## Utils"
   ]
  },
  {
   "cell_type": "code",
   "execution_count": null,
   "metadata": {},
   "outputs": [],
   "source": [
    "function split_subarrays(array)\n",
    "    n = length(array)\n",
    "    sqrt_n = floor(Int, sqrt(n))\n",
    "    subarrays = [array[i:min(i+sqrt_n-1, n)] for i in 1:sqrt_n:n]\n",
    "    return subarrays\n",
    "end"
   ]
  },
  {
   "cell_type": "code",
   "execution_count": null,
   "metadata": {},
   "outputs": [],
   "source": [
    "function my_benchmark(dummy_func, dummy_time)\n",
    "    for i in 1:length(array_list)\n",
    "        median_time = zeros(benchmark_count)\n",
    "        for c in 1:benchmark_count\n",
    "            array_copy = copy(array_list[i])\n",
    "            start = time_ns()\n",
    "            dummy_func(array_copy)\n",
    "            final = time_ns()\n",
    "            median_time[c] = (final - start) / 1e9\n",
    "        end\n",
    "        dummy_time[i] = median(median_time)\n",
    "    end\n",
    "end"
   ]
  },
  {
   "cell_type": "markdown",
   "metadata": {},
   "source": [
    "## Heap"
   ]
  },
  {
   "cell_type": "code",
   "execution_count": null,
   "metadata": {},
   "outputs": [],
   "source": [
    "function sqrtsort_heap(array)\n",
    "    n = length(array)\n",
    "    subarrays = split_subarrays(array)\n",
    "    \n",
    "    # Cria uma MaxHeap com cada subvetor\n",
    "    heaps = [BinaryMaxHeap(sub) for sub in subarrays]\n",
    "    \n",
    "    solution = Vector{Int}(undef, n)\n",
    "    current_pos = n\n",
    "    \n",
    "    while !isempty(heaps)\n",
    "        # Encontrar o maior elemento em cada heap\n",
    "        max_elements = [first(heap) for heap in heaps]\n",
    "        max_index = argmax(max_elements)\n",
    "        \n",
    "        # Inserir o maior elemento na posição correta no vetor solução\n",
    "        solution[current_pos] = pop!(heaps[max_index])\n",
    "        current_pos -= 1\n",
    "        \n",
    "        if isempty(heaps[max_index])\n",
    "            deleteat!(heaps, max_index)\n",
    "        end\n",
    "    end\n",
    "    \n",
    "    # print(\"Heap $n: $solution\\n\\n\")\n",
    "    return solution\n",
    "end"
   ]
  },
  {
   "cell_type": "markdown",
   "metadata": {},
   "source": [
    "## BubbleSort"
   ]
  },
  {
   "cell_type": "code",
   "execution_count": null,
   "metadata": {},
   "outputs": [],
   "source": [
    "function bubblesort!(sub)\n",
    "    n = length(sub)\n",
    "    for i in 1:n-1\n",
    "        for j in 1:n-i\n",
    "            if sub[j] > sub[j+1]\n",
    "                sub[j], sub[j+1] = sub[j+1], sub[j]\n",
    "            end\n",
    "        end\n",
    "    end\n",
    "end"
   ]
  },
  {
   "cell_type": "code",
   "execution_count": null,
   "metadata": {},
   "outputs": [],
   "source": [
    "function sqrtsort_bubble(array)\n",
    "    n = length(array)\n",
    "    subarrays = split_subarrays(array)\n",
    "    \n",
    "    # Ordenar cada subvetor usando Bubble Sort\n",
    "    [bubblesort!(sub) for sub in subarrays]\n",
    "\n",
    "    solution = Vector{Int}(undef, n)\n",
    "    current_pos = n\n",
    "    \n",
    "    while !isempty(subarrays)\n",
    "        # Encontrar o maior elemento em cada subvetor\n",
    "        max_elements = [last(sub) for sub in subarrays]\n",
    "        max_index = argmax(max_elements)\n",
    "        \n",
    "        # Inserir o maior elemento na posição correta no vetor solução\n",
    "        solution[current_pos] = pop!(subarrays[max_index])\n",
    "        current_pos -= 1       \n",
    "        \n",
    "        if isempty(subarrays[max_index])\n",
    "            deleteat!(subarrays, max_index)\n",
    "        end\n",
    "    end\n",
    "    \n",
    "    # print(\"Bubble $n: $solution\\n\\n\")\n",
    "    return solution\n",
    "end"
   ]
  },
  {
   "cell_type": "markdown",
   "metadata": {},
   "source": [
    "## Plot"
   ]
  },
  {
   "cell_type": "code",
   "execution_count": null,
   "metadata": {},
   "outputs": [],
   "source": [
    "function generate_plot(bubblesort_time, heapsort_time, array_size)\n",
    "    p = plot(\n",
    "        title = \"BubbleSort vs HeapSort\",\n",
    "        xlabel = \"Array Size\", \n",
    "        ylabel = \"Time (seconds)\", \n",
    "        xscale = :log10, \n",
    "        yscale = :log10,\n",
    "        legend=:topleft,\n",
    "    )\n",
    "\n",
    "    plot!(\n",
    "        p,\n",
    "        array_size, bubblesort_time,\n",
    "        label = \"BubbleSort\",\n",
    "        lw = 2,\n",
    "        linecolor = :blue  # Distinguindo as cores\n",
    "    )\n",
    "\n",
    "    \n",
    "    plot!(\n",
    "        p,\n",
    "        array_size, heapsort_time,\n",
    "        label = \"HeapSort\", \n",
    "        lw = 2,\n",
    "        linecolor = :red  # Distinguindo as cores\n",
    "    )\n",
    "\n",
    "    display(p)\n",
    "    savefig(p, \"Projeto 2/imgs/plot2.png\")\n",
    "end"
   ]
  },
  {
   "cell_type": "markdown",
   "metadata": {},
   "source": [
    "## Execução"
   ]
  },
  {
   "cell_type": "code",
   "execution_count": null,
   "metadata": {},
   "outputs": [],
   "source": [
    "benchmark_count = 1"
   ]
  },
  {
   "cell_type": "code",
   "execution_count": 12,
   "metadata": {},
   "outputs": [],
   "source": [
    "print(\"Bubble: \")\n",
    "start = time_ns()\n",
    "my_benchmark(sqrtsort_bubble, bubblesort_time)\n",
    "print((time_ns() - start) / 1e9)"
   ]
  },
  {
   "cell_type": "code",
   "execution_count": null,
   "metadata": {},
   "outputs": [],
   "source": [
    "print(\"\\nHeap: \")\n",
    "start2 = time_ns()\n",
    "my_benchmark(sqrtsort_heap, heapsort_time)\n",
    "print((time_ns() - start2) / 1e9)\n",
    "println(\"\\nTotal: \", (time_ns() - start) / 1e9)"
   ]
  },
  {
   "cell_type": "code",
   "execution_count": null,
   "metadata": {},
   "outputs": [],
   "source": [
    "# Geração do gráfico de comparação\n",
    "generate_plot(bubblesort_time, heapsort_time, array_size)"
   ]
  }
 ],
 "metadata": {
  "kernelspec": {
   "display_name": "Julia 1.10.4",
   "language": "julia",
   "name": "julia-1.10"
  },
  "language_info": {
   "file_extension": ".jl",
   "mimetype": "application/julia",
   "name": "julia",
   "version": "1.10.4"
  }
 },
 "nbformat": 4,
 "nbformat_minor": 2
}
