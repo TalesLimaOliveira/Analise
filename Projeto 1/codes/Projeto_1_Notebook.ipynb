{
 "cells": [
  {
   "cell_type": "markdown",
   "metadata": {},
   "source": [
    "# INSTALL JULIA - COLAB\n",
    "\n",
    "PEGUE O SCRIPT DE TEMPLATE [AQUI](https://colab.research.google.com/drive/1lLHnAUl1kqPB6Fc1tF9r19om24DbYYFh)!"
   ]
  },
  {
   "cell_type": "code",
   "execution_count": null,
   "metadata": {},
   "outputs": [],
   "source": [
    "# %%shell\n",
    "# set -e\n",
    "\n",
    "# #---------------------------------------------------#\n",
    "# JULIA_VERSION=\"1.10.4\" # any version ≥ 0.7.0\n",
    "# JULIA_PACKAGES=\"IJulia BenchmarkTools Plots\"\n",
    "# JULIA_NUM_THREADS=2\n",
    "# #---------------------------------------------------#\n",
    "\n",
    "# if [ -z `which julia` ]; then\n",
    "# # Install Julia\n",
    "# JULIA_VER=`cut -d '.' -f -2 <<< \"$JULIA_VERSION\"`\n",
    "# echo \"Installing Julia $JULIA_VERSION on the current Colab Runtime...\"\n",
    "# BASE_URL=\"https://julialang-s3.julialang.org/bin/linux/x64\"\n",
    "# URL=\"$BASE_URL/$JULIA_VER/julia-$JULIA_VERSION-linux-x86_64.tar.gz\"\n",
    "# wget -nv $URL -O /tmp/julia.tar.gz # -nv means \"not verbose\"\n",
    "# tar -x -f /tmp/julia.tar.gz -C /usr/local --strip-components 1\n",
    "# rm /tmp/julia.tar.gz\n",
    "\n",
    "# # Install Packages\n",
    "# for PKG in `echo $JULIA_PACKAGES`; do\n",
    "#     echo \"Installing Julia package $PKG...\"\n",
    "#     julia -e 'using Pkg; pkg\"add '$PKG'; precompile;\"' &> /dev/null\n",
    "# done\n",
    "\n",
    "# # Install kernel and rename it to \"julia\"\n",
    "# echo \"Installing IJulia kernel...\"\n",
    "# julia -e 'using IJulia; IJulia.installkernel(\"julia\", env=Dict(\n",
    "#     \"JULIA_NUM_THREADS\"=>\"'\"$JULIA_NUM_THREADS\"'\"))'\n",
    "# KERNEL_DIR=`julia -e \"using IJulia; print(IJulia.kerneldir())\"`\n",
    "# KERNEL_NAME=`ls -d \"$KERNEL_DIR\"/julia*`\n",
    "# mv -f $KERNEL_NAME \"$KERNEL_DIR\"/julia\n",
    "\n",
    "# echo ''\n",
    "# echo \"Successfully installed `julia -v`!\"\n",
    "# echo \"Please reload this page (press Ctrl+R or F5) then\"\n",
    "# echo \"jump to the 'Checking the Installation' section.\"\n",
    "# fi"
   ]
  },
  {
   "cell_type": "code",
   "execution_count": null,
   "metadata": {},
   "outputs": [],
   "source": [
    "versioninfo()"
   ]
  },
  {
   "cell_type": "markdown",
   "metadata": {},
   "source": [
    "# PROJETO 1"
   ]
  },
  {
   "cell_type": "markdown",
   "metadata": {},
   "source": [
    "## LIBS"
   ]
  },
  {
   "cell_type": "code",
   "execution_count": null,
   "metadata": {},
   "outputs": [],
   "source": [
    "using Random\n",
    "using Statistics\n",
    "using Plots"
   ]
  },
  {
   "cell_type": "markdown",
   "metadata": {},
   "source": [
    "## VARS & VECS"
   ]
  },
  {
   "cell_type": "code",
   "execution_count": null,
   "metadata": {},
   "outputs": [],
   "source": [
    "# Const\n",
    "benchmark_count = 10\n",
    "img_output = \"bench\""
   ]
  },
  {
   "cell_type": "code",
   "execution_count": null,
   "metadata": {},
   "outputs": [],
   "source": [
    "# List Sizes\n",
    "n_values = [10^i for i in 4:7] # Vectors Sizes\n",
    "q_values = [10^i for i in 2:5] # Amount of Keys\n",
    "\n",
    "# For keep the test the same\n",
    "Random.seed!(1234)\n",
    "\n",
    "# Initialize the list of vectors and keys\n",
    "key_list = [rand(1:10^2, q) for q in q_values]\n",
    "vec_list = [rand(1:10^4, n) for n in n_values]"
   ]
  },
  {
   "cell_type": "code",
   "execution_count": null,
   "metadata": {},
   "outputs": [],
   "source": [
    "# Initialize the list of timers\n",
    "simple_times = zeros(length(n_values), length(q_values))\n",
    "optimized_times = zeros(length(n_values), length(q_values))\n",
    "binary_times = zeros(length(n_values), length(q_values))\n",
    "sorting_times = zeros(length(n_values))"
   ]
  },
  {
   "cell_type": "markdown",
   "metadata": {},
   "source": [
    "## SEARCH FUNCTIONS"
   ]
  },
  {
   "cell_type": "code",
   "execution_count": null,
   "metadata": {},
   "outputs": [],
   "source": [
    "function simple_search(vector, key)\n",
    "    for element in vector\n",
    "        if element == key\n",
    "            return true\n",
    "        end\n",
    "    end\n",
    "    return false\n",
    "end"
   ]
  },
  {
   "cell_type": "code",
   "execution_count": null,
   "metadata": {},
   "outputs": [],
   "source": [
    "# Busca Linear Otimizada\n",
    "function optimized_search(sorted_vec, key)\n",
    "    for element in sorted_vec\n",
    "        if element == key\n",
    "            return true\n",
    "        elseif element > key\n",
    "            return false\n",
    "        end\n",
    "    end\n",
    "    return false\n",
    "end"
   ]
  },
  {
   "cell_type": "code",
   "execution_count": null,
   "metadata": {},
   "outputs": [],
   "source": [
    "function binary_search(sorted_vec, key)\n",
    "    low, high = 1, length(sorted_vec)\n",
    "    while low <= high\n",
    "        mid = div(low + high, 2)\n",
    "        if sorted_vec[mid] == key\n",
    "            return true\n",
    "        elseif sorted_vec[mid] < key\n",
    "            low = mid + 1\n",
    "        else\n",
    "            high = mid - 1\n",
    "        end\n",
    "    end\n",
    "    return false\n",
    "end"
   ]
  },
  {
   "cell_type": "markdown",
   "metadata": {},
   "source": [
    "## DUMMY"
   ]
  },
  {
   "cell_type": "code",
   "execution_count": null,
   "metadata": {},
   "outputs": [],
   "source": [
    "# Dummy search function\n",
    "function dummy_search(search_func, vector, keys)\n",
    "    [search_func(vector, k) for k in keys]\n",
    "end"
   ]
  },
  {
   "cell_type": "code",
   "execution_count": null,
   "metadata": {},
   "outputs": [],
   "source": [
    "# Benchmark macro\n",
    "function my_benchmark(search_func, time_matrix)\n",
    "    for i in 1:length(vec_list) # For each vector size\n",
    "        for j in 1:length(key_list)  # For each key numbers\n",
    "            mean_time = zeros(benchmark_count)\n",
    "            for c in 1:benchmark_count\n",
    "                start = time_ns()\n",
    "                [search_func(vec_list[i], k) for k in key_list[j]]\n",
    "                final = time_ns()\n",
    "                mean_time[c] = (final - start) / 1e9\n",
    "            end\n",
    "            time_matrix[i, j] = mean(mean_time)\n",
    "        end\n",
    "    end\n",
    "end"
   ]
  },
  {
   "cell_type": "markdown",
   "metadata": {},
   "source": [
    "## BENCHMARK"
   ]
  },
  {
   "cell_type": "code",
   "execution_count": null,
   "metadata": {},
   "outputs": [],
   "source": [
    "# Measure linear search\n",
    "my_benchmark(simple_search, simple_times)"
   ]
  },
  {
   "cell_type": "code",
   "execution_count": null,
   "metadata": {},
   "outputs": [],
   "source": [
    "# Measure sorting\n",
    "for i in 1:length(vec_list)\n",
    "    mean_time = zeros(benchmark_count)\n",
    "    for c in 1:benchmark_count\n",
    "        start = time_ns()\n",
    "        sort(vec_list[i], alg=MergeSort)\n",
    "        final = time_ns()\n",
    "        mean_time[c] = (final - start) / 1e9\n",
    "    end\n",
    "    sorting_times[i] = mean(mean_time)\n",
    "end\n",
    "\n",
    "[sort!(sublist) for sublist in vec_list]"
   ]
  },
  {
   "cell_type": "code",
   "execution_count": null,
   "metadata": {},
   "outputs": [],
   "source": [
    "# Measure optimized search\n",
    "my_benchmark(optimized_search, optimized_times)"
   ]
  },
  {
   "cell_type": "code",
   "execution_count": null,
   "metadata": {},
   "outputs": [],
   "source": [
    "# Measure binary search\n",
    "my_benchmark(binary_search, binary_times)"
   ]
  },
  {
   "cell_type": "markdown",
   "metadata": {},
   "source": [
    "## PLOTS"
   ]
  },
  {
   "cell_type": "code",
   "execution_count": null,
   "metadata": {},
   "outputs": [],
   "source": [
    "for i in 1:4\n",
    "    p = plot(\n",
    "        #title=\"Quantidade de buscas = $(q_values[i])\",\n",
    "        xlabel=\"Tamanho do Vetor (n)\",\n",
    "        ylabel=\"Tempo (ns)\",\n",
    "        xscale=:log10,\n",
    "        #yscale=:log10,\n",
    "        legend=:topleft,\n",
    "        xticks=([10^4, 10^5, 10^6, 10^7], [\"10^4\", \"10^5\", \"10^6\", \"10^7\"])\n",
    "    )\n",
    "\n",
    "    plot!(\n",
    "        p,\n",
    "        n_values,\n",
    "        simple_times[:, i],\n",
    "        label=\"Busca Simples\",\n",
    "        color=:red,\n",
    "        lw= 2,\n",
    "    )\n",
    "\n",
    "    total_optimized_times = sorting_times .+ optimized_times[:, i]\n",
    "    plot!(\n",
    "        p,\n",
    "        n_values,\n",
    "        total_optimized_times,\n",
    "        label=\"Busca Otimizada + Ordenação\",\n",
    "        color=:blue,\n",
    "        lw= 2\n",
    "    )\n",
    "\n",
    "    total_binary_times = sorting_times .+ binary_times[:, i]\n",
    "    plot!(\n",
    "        p,\n",
    "        n_values,\n",
    "        total_binary_times,\n",
    "        label=\"Busca Binária + Ordenação\",\n",
    "        color=:green,\n",
    "        lw= 2\n",
    "    )\n",
    "\n",
    "    # plot!(\n",
    "    #     p,\n",
    "    #     n_values,\n",
    "    #     sorting_times,\n",
    "    #     label=\"Ordenação\",\n",
    "    #     color=:yellow,\n",
    "    #     lw= 2\n",
    "    # )\n",
    "\n",
    "    display(p)\n",
    "    savefig(p, \"../imgs/q_size/$(img_output)_$(benchmark_count)-q_$(q_values[i]).png\")\n",
    "end"
   ]
  },
  {
   "cell_type": "code",
   "execution_count": null,
   "metadata": {},
   "outputs": [],
   "source": [
    "for i in 1:4\n",
    "    p = plot(\n",
    "        # title=\"Tamanho do vetor = $(n_values[i])\",\n",
    "        xlabel=\"Quantidade de busca (q)\",\n",
    "        ylabel=\"Tempo (ns)\",\n",
    "        xscale=:log10,\n",
    "        legend=:topleft,\n",
    "        xticks=([10^2, 10^3, 10^4, 10^5], [\"10^2\", \"10^3\", \"10^4\", \"10^5\"])\n",
    "    )\n",
    "\n",
    "    plot!(\n",
    "        p,\n",
    "        q_values,\n",
    "        simple_times[i, :],\n",
    "        label=\"Busca Simples\",\n",
    "        color=:red,\n",
    "        lw= 2,\n",
    "    )\n",
    "\n",
    "    total_optimized_times = sorting_times .+ optimized_times[i, :]\n",
    "    plot!(\n",
    "        p,\n",
    "        q_values,\n",
    "        total_optimized_times,\n",
    "        label=\"Busca Otimizada + Ordenação\",\n",
    "        color=:blue,\n",
    "        lw= 2\n",
    "    )\n",
    "\n",
    "    total_binary_times = sorting_times .+ binary_times[i, :]\n",
    "    plot!(\n",
    "        p,\n",
    "        q_values,\n",
    "        total_binary_times,\n",
    "        label=\"Busca Binária + Ordenação\",\n",
    "        color=:green,\n",
    "        lw= 2\n",
    "    )\n",
    "\n",
    "    # plot!(\n",
    "    #     p,\n",
    "    #     n_values,\n",
    "    #     sorting_times,\n",
    "    #     label=\"Ordenação\",\n",
    "    #     color=:yellow,\n",
    "    #     lw= 2\n",
    "    # )\n",
    "\n",
    "    display(p)\n",
    "    savefig(p, \"../imgs/n_size/$(img_output)_$(benchmark_count)-n_$(n_values[i]).png\")\n",
    "end"
   ]
  }
 ],
 "metadata": {
  "kernelspec": {
   "display_name": "Julia 1.10.4",
   "language": "julia",
   "name": "julia-1.10"
  },
  "language_info": {
   "file_extension": ".jl",
   "mimetype": "application/julia",
   "name": "julia",
   "version": "1.10.4"
  }
 },
 "nbformat": 4,
 "nbformat_minor": 2
}
