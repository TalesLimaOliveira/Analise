{
  "cells": [
    {
      "cell_type": "markdown",
      "metadata": {
        "id": "-KkOAszmQxwF"
      },
      "source": [
        "# PROJETO 1 - ANALISE DE ALGORITMO"
      ]
    },
    {
      "cell_type": "code",
      "execution_count": 1,
      "metadata": {
        "id": "wu2l79_iUzyV"
      },
      "outputs": [],
      "source": [
        "using Plots\n",
        "using Statistics\n",
        "using Random"
      ]
    },
    {
      "cell_type": "markdown",
      "metadata": {
        "id": "KyL1-Oajkj2Q"
      },
      "source": [
        "## VECTOR GENERATOR - SIZE(N & Q)"
      ]
    },
    {
      "cell_type": "code",
      "execution_count": 2,
      "metadata": {
        "colab": {
          "base_uri": "https://localhost:8080/"
        },
        "id": "83WAVLPojwWQ",
        "outputId": "4d13d4b2-43a6-4790-f6bc-6ab6106ee022"
      },
      "outputs": [
        {
          "data": {
            "text/plain": [
              "generate_vectors (generic function with 1 method)"
            ]
          },
          "execution_count": 2,
          "metadata": {},
          "output_type": "execute_result"
        }
      ],
      "source": [
        "# Function to generate a vector of random values\n",
        "function generate_vectors(size::Int, upper_limit::Int)\n",
        "    return rand(1:upper_limit, size)\n",
        "end"
      ]
    },
    {
      "cell_type": "code",
      "execution_count": 3,
      "metadata": {
        "colab": {
          "base_uri": "https://localhost:8080/"
        },
        "id": "gjY3CYg5jySg",
        "outputId": "b4404afe-bc9c-4677-d525-753431db8e59"
      },
      "outputs": [
        {
          "data": {
            "text/plain": [
              "generate_keys (generic function with 1 method)"
            ]
          },
          "execution_count": 3,
          "metadata": {},
          "output_type": "execute_result"
        }
      ],
      "source": [
        "# Function to generate a random key\n",
        "function generate_keys(size::Int, upper_limit::Int)\n",
        "    return rand(1:upper_limit, size)\n",
        "end"
      ]
    },
    {
      "cell_type": "markdown",
      "metadata": {
        "id": "ebXuY_OpkUXg"
      },
      "source": [
        "## SEARCH FUNTIONS"
      ]
    },
    {
      "cell_type": "code",
      "execution_count": 4,
      "metadata": {},
      "outputs": [
        {
          "data": {
            "text/plain": [
              "dummy_search (generic function with 1 method)"
            ]
          },
          "execution_count": 4,
          "metadata": {},
          "output_type": "execute_result"
        }
      ],
      "source": [
        "#Dummy function to measure time and execute search function\n",
        "function dummy_search(search_function::Function, vector, keys)\n",
        "    initial_time = time_ns()\n",
        "    for key in keys\n",
        "        search_function(vector, keys)\n",
        "    end\n",
        "    final_time = time_ns()\n",
        "    return (final_time - initial_time) / 1e9\n",
        "end"
      ]
    },
    {
      "cell_type": "code",
      "execution_count": 5,
      "metadata": {
        "colab": {
          "base_uri": "https://localhost:8080/"
        },
        "id": "8GLOA4oGkObh",
        "outputId": "49b96ced-ae61-4b5b-9d46-e92b5546ac7d"
      },
      "outputs": [
        {
          "data": {
            "text/plain": [
              "simple_search (generic function with 1 method)"
            ]
          },
          "execution_count": 5,
          "metadata": {},
          "output_type": "execute_result"
        }
      ],
      "source": [
        "# Simple linear search function\n",
        "function simple_search(vector, key)\n",
        "    for i in 1:length(vector)\n",
        "        if vector[i] == key\n",
        "            return i  # Returns the index where the key was found\n",
        "        end\n",
        "    end\n",
        "    return -1  # Returns -1 if the key is not found\n",
        "end"
      ]
    },
    {
      "cell_type": "code",
      "execution_count": 6,
      "metadata": {
        "colab": {
          "base_uri": "https://localhost:8080/"
        },
        "id": "0YNySzG2kP2o",
        "outputId": "79f07131-807a-4e58-c434-2b62912402bd"
      },
      "outputs": [
        {
          "data": {
            "text/plain": [
              "optimized_search (generic function with 1 method)"
            ]
          },
          "execution_count": 6,
          "metadata": {},
          "output_type": "execute_result"
        }
      ],
      "source": [
        "# Optimized linear search function\n",
        "function optimized_search(sorted_vector, key)\n",
        "    for i in 1:length(sorted_vector)\n",
        "        if key == sorted_vector[i]\n",
        "            return i  # Returns the index where the key was found\n",
        "        elseif key < sorted_vector[i]\n",
        "            return -1  # Returns -1 if the key is not found\n",
        "        end\n",
        "    end\n",
        "    return -1  # Returns -1 if the key is not found\n",
        "end"
      ]
    },
    {
      "cell_type": "code",
      "execution_count": 7,
      "metadata": {
        "colab": {
          "base_uri": "https://localhost:8080/"
        },
        "id": "Y5D2SdW2kTAw",
        "outputId": "8b497365-a1d8-42dd-a1a7-84bda481f0f8"
      },
      "outputs": [
        {
          "data": {
            "text/plain": [
              "binary_search (generic function with 1 method)"
            ]
          },
          "execution_count": 7,
          "metadata": {},
          "output_type": "execute_result"
        }
      ],
      "source": [
        "# Binary search function\n",
        "function binary_search(sorted_vector, key)\n",
        "    low = 1\n",
        "    high = length(sorted_vector)\n",
        "\n",
        "    while low <= high\n",
        "        mid = (low + high) ÷ 2\n",
        "        if sorted_vector[mid] == key\n",
        "            return mid  # Returns the index where the key was found\n",
        "        elseif sorted_vector[mid] < key\n",
        "            low = mid + 1\n",
        "        else\n",
        "            high = mid - 1\n",
        "        end\n",
        "    end\n",
        "    return -1  # Returns -1 if the key is not found\n",
        "end"
      ]
    },
    {
      "cell_type": "markdown",
      "metadata": {
        "id": "qqX3zPopket4"
      },
      "source": [
        "## MAIN - BENCHMARK AND PLOTS"
      ]
    },
    {
      "cell_type": "code",
      "execution_count": 8,
      "metadata": {
        "colab": {
          "base_uri": "https://localhost:8080/"
        },
        "id": "WE52pkGunJgo",
        "outputId": "48678910-cf21-4f6a-9179-0dda601d7613"
      },
      "outputs": [
        {
          "data": {
            "text/plain": [
              "4-element Vector{Float64}:\n",
              " 1.5611e-319\n",
              " 7.74682412640213e-304\n",
              " 5.43230922614e-312\n",
              " 1.09231905977e-311"
            ]
          },
          "execution_count": 8,
          "metadata": {},
          "output_type": "execute_result"
        }
      ],
      "source": [
        "# VARS\n",
        "upper_limit = 1000 # Upper limit for generating random numbers\n",
        "n_values = [10^4, 10^5, 10^6, 10^7]  # Vectors Sizes\n",
        "q_values = [10^2, 10^3, 10^4, 10^5]  # Amount of Keys\n",
        "\n",
        "# Initialize the list of vectors and keys\n",
        "vector_list = [generate_vectors(n, upper_limit) for n in n_values]\n",
        "key_list = [generate_keys(q, upper_limit) for q in q_values]\n",
        "\n",
        "# Initialize the list of timers\n",
        "time_simple_search = Matrix{Float64}(undef, length(n_values), length(q_values))\n",
        "time_optimized_search = Matrix{Float64}(undef, length(n_values), length(q_values))\n",
        "time_binary_search = Matrix{Float64}(undef, length(n_values), length(q_values))\n",
        "time_to_sort = Vector{Float64}(undef, length(n_values))"
      ]
    },
    {
      "cell_type": "code",
      "execution_count": 9,
      "metadata": {
        "colab": {
          "base_uri": "https://localhost:8080/",
          "height": 141
        },
        "id": "hYRWSenBn2eJ",
        "outputId": "80f4f43b-d149-489b-9932-814d9e397e8d"
      },
      "outputs": [],
      "source": [
        "# Simple linear search - Benchmarking\n",
        "for i in 1:length(n_values)  # For each vector size\n",
        "    for j in 1:length(q_values)  # For each key numbers\n",
        "        time_simple_search[i, j] = dummy_search(simple_search, vector_list[i], key_list[j])\n",
        "    end\n",
        "end"
      ]
    },
    {
      "cell_type": "code",
      "execution_count": 10,
      "metadata": {
        "colab": {
          "base_uri": "https://localhost:8080/",
          "height": 540
        },
        "id": "8P6RPNSYn42h",
        "outputId": "7ffb6593-ba4f-4b45-cdf7-1e30947964b4"
      },
      "outputs": [],
      "source": [
        "# Sorting the vectors - Benchmarking\n",
        "for i in 1:length(n_values)   # For each vector size\n",
        "    initial_time = time_ns()\n",
        "    vector_list[i] = sort(vector_list[i])  # Sort the vectors\n",
        "    final_time = time_ns()\n",
        "    time_to_sort[i] = (final_time - initial_time) / 1e9\n",
        "end"
      ]
    },
    {
      "cell_type": "code",
      "execution_count": 11,
      "metadata": {
        "colab": {
          "base_uri": "https://localhost:8080/",
          "height": 141
        },
        "id": "LeebN9Vun8Ka",
        "outputId": "ca657473-42ba-48fe-c41d-9e4b1e7a52dc"
      },
      "outputs": [
        {
          "ename": "LoadError",
          "evalue": "MethodError: no method matching isless(::Vector{Int64}, ::Int64)\n\n\u001b[0mClosest candidates are:\n\u001b[0m  isless(\u001b[91m::Missing\u001b[39m, ::Any)\n\u001b[0m\u001b[90m   @\u001b[39m \u001b[90mBase\u001b[39m \u001b[90m\u001b[4mmissing.jl:87\u001b[24m\u001b[39m\n\u001b[0m  isless(::Any, \u001b[91m::Missing\u001b[39m)\n\u001b[0m\u001b[90m   @\u001b[39m \u001b[90mBase\u001b[39m \u001b[90m\u001b[4mmissing.jl:88\u001b[24m\u001b[39m\n\u001b[0m  isless(\u001b[91m::AbstractFloat\u001b[39m, ::Real)\n\u001b[0m\u001b[90m   @\u001b[39m \u001b[90mBase\u001b[39m \u001b[90m\u001b[4moperators.jl:179\u001b[24m\u001b[39m\n\u001b[0m  ...\n",
          "output_type": "error",
          "traceback": [
            "MethodError: no method matching isless(::Vector{Int64}, ::Int64)\n\n\u001b[0mClosest candidates are:\n\u001b[0m  isless(\u001b[91m::Missing\u001b[39m, ::Any)\n\u001b[0m\u001b[90m   @\u001b[39m \u001b[90mBase\u001b[39m \u001b[90m\u001b[4mmissing.jl:87\u001b[24m\u001b[39m\n\u001b[0m  isless(::Any, \u001b[91m::Missing\u001b[39m)\n\u001b[0m\u001b[90m   @\u001b[39m \u001b[90mBase\u001b[39m \u001b[90m\u001b[4mmissing.jl:88\u001b[24m\u001b[39m\n\u001b[0m  isless(\u001b[91m::AbstractFloat\u001b[39m, ::Real)\n\u001b[0m\u001b[90m   @\u001b[39m \u001b[90mBase\u001b[39m \u001b[90m\u001b[4moperators.jl:179\u001b[24m\u001b[39m\n\u001b[0m  ...\n",
            "",
            "Stacktrace:",
            " [1] <(x::Vector{Int64}, y::Int64)",
            "   @ Base .\\operators.jl:352",
            " [2] optimized_search",
            "   @ .\\In[6]:6 [inlined]",
            " [3] dummy_search(search_function::typeof(optimized_search), vector::Vector{Int64}, keys::Vector{Int64})",
            "   @ Main .\\In[4]:5",
            " [4] top-level scope",
            "   @ .\\In[11]:4"
          ]
        }
      ],
      "source": [
        "# Optimized Linear search - Benchmarking\n",
        "for i in 1:length(n_values)   # For each vector size\n",
        "    for j in 1:length(q_values)  # For each key numbers\n",
        "        time_optimized_search[i, j] = dummy_search(optimized_search, vector_list[i], key_list[j])\n",
        "        end\n",
        "    end\n",
        "end"
      ]
    },
    {
      "cell_type": "code",
      "execution_count": null,
      "metadata": {
        "colab": {
          "base_uri": "https://localhost:8080/",
          "height": 141
        },
        "id": "Ze0Do-e_n-sR",
        "outputId": "b354aad2-cc46-4cfe-c9e1-da503f21b1c3"
      },
      "outputs": [],
      "source": [
        "# Binary search - Benchmarking\n",
        "for i in 1:length(n_values)   # For each vector size\n",
        "    for j in 1:length(q_values)  # For each key numbers\n",
        "        time_binary_search[i, j] = dummy_search(binary_search, vector_list[i], key_list[j])\n",
        "    end\n",
        "end"
      ]
    },
    {
      "cell_type": "code",
      "execution_count": null,
      "metadata": {
        "colab": {
          "base_uri": "https://localhost:8080/",
          "height": 141
        },
        "id": "s5DWCPjWkKG5",
        "outputId": "26c844dd-9a49-4568-eb9c-91c9b2cc63ad"
      },
      "outputs": [],
      "source": [
        "# Ploting graphics\n",
        "for j in 1:length(q_values)\n",
        "    p = plot(\n",
        "        n_values,\n",
        "        time_simple_search[:, j],\n",
        "        label = \"Simples\",\n",
        "        xlabel = \"Tamanho do Vetor (n)\",\n",
        "        ylabel = \"Tempo (s)\",\n",
        "        title = \"Numero de Buscas = $(q_values[j])\",\n",
        "        legend = :topleft,\n",
        "        lw = 2  # Line Width\n",
        "    )\n",
        "    plot!(n_values, time_optimized_search[:, j], label = \"Otimizada\", lw = 2)\n",
        "    plot!(n_values, time_binary_search[:, j], label = \"Binária\", lw = 2)\n",
        "    plot!(n_values, time_to_sort, label = \"Ordenação\", lw = 2)\n",
        "\n",
        "    display(p)\n",
        "    savefig(p, \"../imgs/benchmark_q_$(q_values[j]).png\")\n",
        "end"
      ]
    }
  ],
  "metadata": {
    "colab": {
      "collapsed_sections": [
        "KyL1-Oajkj2Q",
        "ebXuY_OpkUXg"
      ],
      "provenance": []
    },
    "kernelspec": {
      "display_name": "Julia 1.10.4",
      "language": "julia",
      "name": "julia-1.10"
    },
    "language_info": {
      "file_extension": ".jl",
      "mimetype": "application/julia",
      "name": "julia",
      "version": "1.10.4"
    }
  },
  "nbformat": 4,
  "nbformat_minor": 0
}
