{
  "cells": [
    {
      "cell_type": "markdown",
      "metadata": {
        "id": "-KkOAszmQxwF"
      },
      "source": [
        "# PROJETO 1 - ANALISE DE ALGORITMO"
      ]
    },
    {
      "cell_type": "code",
      "execution_count": null,
      "metadata": {
        "id": "wu2l79_iUzyV"
      },
      "outputs": [],
      "source": [
        "using Plots\n",
        "using BenchmarkTools"
      ]
    },
    {
      "cell_type": "markdown",
      "metadata": {
        "id": "KyL1-Oajkj2Q"
      },
      "source": [
        "## VECTOR GENERATOR - SIZE(N & Q)"
      ]
    },
    {
      "cell_type": "markdown",
      "metadata": {
        "id": "ebXuY_OpkUXg"
      },
      "source": [
        "## SEARCH FUNTIONS"
      ]
    },
    {
      "cell_type": "code",
      "execution_count": null,
      "metadata": {
        "colab": {
          "base_uri": "https://localhost:8080/"
        },
        "id": "8GLOA4oGkObh",
        "outputId": "49b96ced-ae61-4b5b-9d46-e92b5546ac7d"
      },
      "outputs": [],
      "source": [
        "# Simple linear search function\n",
        "function simple_search(vector::Vector{Int64}, key::Int64)\n",
        "    for i in 1:length(vector)\n",
        "        if key == vector[i] \n",
        "            return i  # Returns the index where the key was found\n",
        "        end\n",
        "    end\n",
        "    return -1  # Returns -1 if the key is not found\n",
        "end"
      ]
    },
    {
      "cell_type": "code",
      "execution_count": null,
      "metadata": {
        "colab": {
          "base_uri": "https://localhost:8080/"
        },
        "id": "0YNySzG2kP2o",
        "outputId": "79f07131-807a-4e58-c434-2b62912402bd"
      },
      "outputs": [],
      "source": [
        "# Optimized linear search function\n",
        "function optimized_search(vector::Vector{Int64}, key::Int64)\n",
        "    for i in 1:length(vector)\n",
        "        if key == vector[i]\n",
        "            return i  # Returns the index where the key was found\n",
        "        elseif key < vector[i]\n",
        "            return -1  # Returns -1 if the key is not found\n",
        "        end\n",
        "    end\n",
        "    return -1  # Returns -1 if the key is not found\n",
        "end"
      ]
    },
    {
      "cell_type": "code",
      "execution_count": null,
      "metadata": {
        "colab": {
          "base_uri": "https://localhost:8080/"
        },
        "id": "Y5D2SdW2kTAw",
        "outputId": "8b497365-a1d8-42dd-a1a7-84bda481f0f8"
      },
      "outputs": [],
      "source": [
        "# Binary search function\n",
        "function binary_search(vector::Vector{Int64}, key::Int64)\n",
        "    low, high = 1, length(vector)\n",
        "\n",
        "    while low <= high\n",
        "        mid = (low + high) ÷ 2   # Same as = div(low + high, 2)\n",
        "        if vector[mid] == key\n",
        "            return mid  # Returns the index where the key was found\n",
        "        elseif vector[mid] < key\n",
        "            low = mid + 1\n",
        "        else\n",
        "            high = mid - 1\n",
        "        end\n",
        "    end\n",
        "    return -1  # Returns -1 if the key is not found\n",
        "end"
      ]
    },
    {
      "cell_type": "markdown",
      "metadata": {
        "id": "qqX3zPopket4"
      },
      "source": [
        "## MAIN - BENCHMARK AND PLOTS"
      ]
    },
    {
      "cell_type": "code",
      "execution_count": null,
      "metadata": {
        "colab": {
          "base_uri": "https://localhost:8080/"
        },
        "id": "WE52pkGunJgo",
        "outputId": "48678910-cf21-4f6a-9179-0dda601d7613"
      },
      "outputs": [],
      "source": [
        "# VARS\n",
        "n_values = [10^i for i in 4:7]  # Vectors Sizes\n",
        "q_values = [10^i for i in 2:5]  # Amount of Keys\n",
        "\n",
        "# Initialize the list of vectors and keys\n",
        "vector_list = [rand(1:10^5, n) for n in n_values]\n",
        "key_list = [collect(1:1:q) for q in q_values] # K2[1-100], ... , K5[1-10^5]\n",
        "\n",
        "# Initialize the list of timers\n",
        "time_simple_search = zeros(length(n_values), length(q_values))\n",
        "time_optimized_search = zeros(length(n_values), length(q_values))\n",
        "time_binary_search = zeros(length(n_values), length(q_values))\n",
        "time_sort = zeros(length(n_values))"
      ]
    },
    {
      "cell_type": "code",
      "execution_count": null,
      "metadata": {
        "colab": {
          "base_uri": "https://localhost:8080/",
          "height": 141
        },
        "id": "hYRWSenBn2eJ",
        "outputId": "80f4f43b-d149-489b-9932-814d9e397e8d"
      },
      "outputs": [],
      "source": [
        "# Simple linear search - Benchmarking\n",
        "for i in 1:length(vector_list)  # For each vector size\n",
        "    for j in 1:length(key_list)  # For each key numbers\n",
        "        bench_simple = @benchmark [simple_search($vector_list[$i], k) for k in $key_list[$j]]\n",
        "        time_simple_search[i, j] = median(bench_simple).time / 1e9\n",
        "    end\n",
        "end"
      ]
    },
    {
      "cell_type": "code",
      "execution_count": null,
      "metadata": {
        "colab": {
          "base_uri": "https://localhost:8080/",
          "height": 540
        },
        "id": "8P6RPNSYn42h",
        "outputId": "7ffb6593-ba4f-4b45-cdf7-1e30947964b4"
      },
      "outputs": [],
      "source": [
        "# Sorting the vectors - Benchmarking\n",
        "for i in 1:length(vector_list)   # For each vector size\n",
        "    bench_sort = @benchmark sort($vector_list[$i])\n",
        "    time_sort[i] = median(bench_sort).time / 1e9\n",
        "end"
      ]
    },
    {
      "cell_type": "code",
      "execution_count": null,
      "metadata": {
        "colab": {
          "base_uri": "https://localhost:8080/",
          "height": 141
        },
        "id": "LeebN9Vun8Ka",
        "outputId": "ca657473-42ba-48fe-c41d-9e4b1e7a52dc"
      },
      "outputs": [],
      "source": [
        "# Optimized Linear search - Benchmarking\n",
        "for i in 1:length(vector_list)   # For each vector size\n",
        "    for j in 1:length(key_list)  # For each key numbers\n",
        "        bench_optimized = @benchmark [optimized_search($vector_list[$i], k) for k in $key_list[$j]]\n",
        "        time_optimized_search[i, j] = median(bench_optimized).time / 1e9\n",
        "    end\n",
        "end"
      ]
    },
    {
      "cell_type": "code",
      "execution_count": null,
      "metadata": {
        "colab": {
          "base_uri": "https://localhost:8080/",
          "height": 141
        },
        "id": "Ze0Do-e_n-sR",
        "outputId": "b354aad2-cc46-4cfe-c9e1-da503f21b1c3"
      },
      "outputs": [],
      "source": [
        "# Binary search - Benchmarking\n",
        "for i in 1:length(vector_list)   # For each vector size\n",
        "    for j in 1:length(key_list)  # For each key numbers\n",
        "        bench_binary = @benchmark [binary_search($vector_list[$i], k) for k in $key_list[$j]]\n",
        "        time_binary_search[i, j] = median(bench_binary).time / 1e9\n",
        "    end\n",
        "end"
      ]
    },
    {
      "cell_type": "code",
      "execution_count": null,
      "metadata": {
        "colab": {
          "base_uri": "https://localhost:8080/",
          "height": 141
        },
        "id": "s5DWCPjWkKG5",
        "outputId": "26c844dd-9a49-4568-eb9c-91c9b2cc63ad"
      },
      "outputs": [],
      "source": [
        "xtick_positions = [0, 10^2, 10^3, 10^5, 10^5]\n",
        "xtick_labels = [\"0\", \"10^2\", \"10^3\", \"10^4\", \"10^5\"]\n",
        "\n",
        "# Ploting graphics\n",
        "for i in 1:4\n",
        "    p = plot(\n",
        "        q_values,\n",
        "        time_simple_search[i, :],\n",
        "        label = \"Simples\",\n",
        "        xlabel = \"Numero de Busca (q)\",\n",
        "        ylabel = \"Tempo (ns)\",\n",
        "        title = \"Tamanho do Vetor (n) = $(n_values[i])\",\n",
        "        legend = :topleft,\n",
        "        # xticks = (xtick_positions, xtick_labels)\n",
        "    )\n",
        "    plot!(q_values, time_optimized_search[i, :], label = \"Otimizada\")\n",
        "    plot!(q_values, time_binary_search[i, :], label = \"Binária\")\n",
        "    # plot!(n_values, time_sort, label = \"Ordenarção\")\n",
        "\n",
        "    display(p)\n",
        "    savefig(p, \"../imgs/benchmark_q_$(n_values[i]).png\")\n",
        "end"
      ]
    }
  ],
  "metadata": {
    "colab": {
      "collapsed_sections": [
        "KyL1-Oajkj2Q",
        "ebXuY_OpkUXg"
      ],
      "provenance": []
    },
    "kernelspec": {
      "display_name": "Julia 1.10.4",
      "language": "julia",
      "name": "julia-1.10"
    },
    "language_info": {
      "file_extension": ".jl",
      "mimetype": "application/julia",
      "name": "julia",
      "version": "1.10.4"
    }
  },
  "nbformat": 4,
  "nbformat_minor": 0
}
