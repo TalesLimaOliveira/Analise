{
  "cells": [
    {
      "cell_type": "markdown",
      "metadata": {},
      "source": [
        "# INSTALL JULIA - COLAB\n",
        "\n",
        "PEGUE O SCRIPT DE TEMPLATE [AQUI](https://colab.research.google.com/drive/1lLHnAUl1kqPB6Fc1tF9r19om24DbYYFh)!"
      ]
    },
    {
      "cell_type": "code",
      "execution_count": null,
      "metadata": {},
      "outputs": [],
      "source": [
        "install_julia = false\n",
        "check_julia = false"
      ]
    },
    {
      "cell_type": "code",
      "execution_count": null,
      "metadata": {},
      "outputs": [],
      "source": [
        "# function julia_installer()\n",
        "#     %%shell\n",
        "#     set -e\n",
        "\n",
        "#     #---------------------------------------------------#\n",
        "#     JULIA_VERSION=\"1.10.4\" # any version ≥ 0.7.0\n",
        "#     JULIA_PACKAGES=\"IJulia BenchmarkTools Plots Statistics DataStructures\"\n",
        "#     JULIA_NUM_THREADS=2\n",
        "#     #---------------------------------------------------#\n",
        "\n",
        "#     if [ -z `which julia` ]; then\n",
        "#     # Install Julia\n",
        "#     JULIA_VER=`cut -d '.' -f -2 <<< \"$JULIA_VERSION\"`\n",
        "#     echo \"Installing Julia $JULIA_VERSION on the current Colab Runtime...\"\n",
        "#     BASE_URL=\"https://julialang-s3.julialang.org/bin/linux/x64\"\n",
        "#     URL=\"$BASE_URL/$JULIA_VER/julia-$JULIA_VERSION-linux-x86_64.tar.gz\"\n",
        "#     wget -nv $URL -O /tmp/julia.tar.gz # -nv means \"not verbose\"\n",
        "#     tar -x -f /tmp/julia.tar.gz -C /usr/local --strip-components 1\n",
        "#     rm /tmp/julia.tar.gz\n",
        "\n",
        "#     # Install Packages\n",
        "#     for PKG in `echo $JULIA_PACKAGES`; do\n",
        "#         echo \"Installing Julia package $PKG...\"\n",
        "#         julia -e 'using Pkg; pkg\"add '$PKG'; precompile;\"' &> /dev/null\n",
        "#     done\n",
        "\n",
        "#     # Install kernel and rename it to \"julia\"\n",
        "#     echo \"Installing IJulia kernel...\"\n",
        "#     julia -e 'using IJulia; IJulia.installkernel(\"julia\", env=Dict(\n",
        "#         \"JULIA_NUM_THREADS\"=>\"'\"$JULIA_NUM_THREADS\"'\"))'\n",
        "#     KERNEL_DIR=`julia -e \"using IJulia; print(IJulia.kerneldir())\"`\n",
        "#     KERNEL_NAME=`ls -d \"$KERNEL_DIR\"/julia*`\n",
        "#     mv -f $KERNEL_NAME \"$KERNEL_DIR\"/julia\n",
        "\n",
        "#     echo ''\n",
        "#     echo \"Successfully installed `julia -v`!\"\n",
        "#     echo \"Please reload this page (press Ctrl+R or F5) then\"\n",
        "#     echo \"jump to the 'Checking the Installation' section.\"\n",
        "#     fi\n",
        "# end"
      ]
    },
    {
      "cell_type": "code",
      "execution_count": null,
      "metadata": {},
      "outputs": [],
      "source": [
        "if install_julia\n",
        "    julia_installer()\n",
        "end\n",
        "\n",
        "if check_julia\n",
        "    versioninfo()\n",
        "end"
      ]
    },
    {
      "cell_type": "markdown",
      "metadata": {
        "id": "-KkOAszmQxwF"
      },
      "source": [
        "# PROJETO 1 - ANALISE DE ALGORITMO"
      ]
    },
    {
      "cell_type": "code",
      "execution_count": null,
      "metadata": {
        "id": "wu2l79_iUzyV"
      },
      "outputs": [],
      "source": [
        "using Plots\n",
        "using BenchmarkTools"
      ]
    },
    {
      "cell_type": "markdown",
      "metadata": {
        "id": "ebXuY_OpkUXg"
      },
      "source": [
        "## SEARCH FUNTIONS"
      ]
    },
    {
      "cell_type": "code",
      "execution_count": null,
      "metadata": {
        "colab": {
          "base_uri": "https://localhost:8080/"
        },
        "id": "8GLOA4oGkObh",
        "outputId": "49b96ced-ae61-4b5b-9d46-e92b5546ac7d"
      },
      "outputs": [],
      "source": [
        "# Simple linear search function\n",
        "function simple_search(vector::Vector{Int64}, key::Int64)\n",
        "    for i in 1:length(vector)\n",
        "        if key == vector[i] \n",
        "            return i  # Returns the index where the key was found\n",
        "        end\n",
        "    end\n",
        "    return -1  # Returns -1 if the key is not found\n",
        "end"
      ]
    },
    {
      "cell_type": "code",
      "execution_count": null,
      "metadata": {
        "colab": {
          "base_uri": "https://localhost:8080/"
        },
        "id": "0YNySzG2kP2o",
        "outputId": "79f07131-807a-4e58-c434-2b62912402bd"
      },
      "outputs": [],
      "source": [
        "# Optimized linear search function\n",
        "function optimized_search(vector::Vector{Int64}, key::Int64)\n",
        "    for i in 1:length(vector)\n",
        "        if key == vector[i]\n",
        "            return i  # Returns the index where the key was found\n",
        "        elseif key < vector[i]\n",
        "            return -1  # Returns -1 if the key is not found\n",
        "        end\n",
        "    end\n",
        "    return -1  # Returns -1 if the key is not found\n",
        "end"
      ]
    },
    {
      "cell_type": "code",
      "execution_count": null,
      "metadata": {
        "colab": {
          "base_uri": "https://localhost:8080/"
        },
        "id": "Y5D2SdW2kTAw",
        "outputId": "8b497365-a1d8-42dd-a1a7-84bda481f0f8"
      },
      "outputs": [],
      "source": [
        "# Binary search function\n",
        "function binary_search(vector::Vector{Int64}, key::Int64)\n",
        "    low, high = 1, length(vector)\n",
        "\n",
        "    while low <= high\n",
        "        mid = div(low + high, 2)\n",
        "        if vector[mid] == key\n",
        "            return mid  # Returns the index where the key was found\n",
        "        elseif vector[mid] < key\n",
        "            low = mid + 1\n",
        "        else\n",
        "            high = mid - 1\n",
        "        end\n",
        "    end\n",
        "    return -1  # Returns -1 if the key is not found\n",
        "end"
      ]
    },
    {
      "cell_type": "markdown",
      "metadata": {},
      "source": [
        "## VECS & LISTS"
      ]
    },
    {
      "cell_type": "code",
      "execution_count": null,
      "metadata": {},
      "outputs": [],
      "source": [
        "# VARS\n",
        "n_values = [10^i for i in 4:7]  # Vectors Sizes\n",
        "q_values = [10^i for i in 2:5]  # Amount of Keys\n",
        "\n",
        "# Initialize the list of vectors and keys\n",
        "vector_list = [rand(1:10^5, n) for n in n_values]\n",
        "key_list = [collect(1:1:q) for q in q_values] # K2[1-100], ... , K5[1-10^5]\n",
        "\n",
        "# Initialize the list of timers\n",
        "time_simple_search = zeros(length(n_values), length(q_values))\n",
        "time_optimized_search = zeros(length(n_values), length(q_values))\n",
        "time_binary_search = zeros(length(n_values), length(q_values))\n",
        "time_sort = zeros(length(n_values))"
      ]
    },
    {
      "cell_type": "markdown",
      "metadata": {
        "id": "qqX3zPopket4"
      },
      "source": [
        "## BENCHMARK"
      ]
    },
    {
      "cell_type": "code",
      "execution_count": null,
      "metadata": {
        "colab": {
          "base_uri": "https://localhost:8080/",
          "height": 141
        },
        "id": "hYRWSenBn2eJ",
        "outputId": "80f4f43b-d149-489b-9932-814d9e397e8d"
      },
      "outputs": [],
      "source": [
        "# Simple linear search - Benchmarking\n",
        "for i in 1:length(vector_list)  # For each vector size\n",
        "    for j in 1:length(key_list)  # For each key numbers\n",
        "        bench_simple = @benchmark [simple_search($vector_list[$i], k) for k in $key_list[$j]]\n",
        "        time_simple_search[i, j] = median(bench_simple).time / 1e9\n",
        "    end\n",
        "end"
      ]
    },
    {
      "cell_type": "code",
      "execution_count": null,
      "metadata": {
        "colab": {
          "base_uri": "https://localhost:8080/",
          "height": 540
        },
        "id": "8P6RPNSYn42h",
        "outputId": "7ffb6593-ba4f-4b45-cdf7-1e30947964b4"
      },
      "outputs": [],
      "source": [
        "# Sorting the vectors - Benchmarking\n",
        "for i in 1:length(vector_list)   # For each vector size\n",
        "    bench_sort = @benchmark sort($vector_list[$i]) # Benchmark sorting\n",
        "    time_sort[i] = median(bench_sort).time / 1e9 # Elepsed Time\n",
        "    vector_list[i] = sort(vector_list[i]) # Sort the vector\n",
        "end"
      ]
    },
    {
      "cell_type": "code",
      "execution_count": null,
      "metadata": {
        "colab": {
          "base_uri": "https://localhost:8080/",
          "height": 141
        },
        "id": "LeebN9Vun8Ka",
        "outputId": "ca657473-42ba-48fe-c41d-9e4b1e7a52dc"
      },
      "outputs": [],
      "source": [
        "# Optimized Linear search - Benchmarking\n",
        "for i in 1:length(vector_list)   # For each vector size\n",
        "    for j in 1:length(key_list)  # For each key numbers\n",
        "        bench_optimized = @benchmark [optimized_search($vector_list[$i], k) for k in $key_list[$j]]\n",
        "        time_optimized_search[i, j] = median(bench_optimized).time / 1e9\n",
        "    end\n",
        "end"
      ]
    },
    {
      "cell_type": "code",
      "execution_count": null,
      "metadata": {
        "colab": {
          "base_uri": "https://localhost:8080/",
          "height": 141
        },
        "id": "Ze0Do-e_n-sR",
        "outputId": "b354aad2-cc46-4cfe-c9e1-da503f21b1c3"
      },
      "outputs": [],
      "source": [
        "# Binary search - Benchmarking\n",
        "for i in 1:length(vector_list)   # For each vector size\n",
        "    for j in 1:length(key_list)  # For each key numbers\n",
        "        bench_binary = @benchmark [binary_search($vector_list[$i], k) for k in $key_list[$j]]\n",
        "        time_binary_search[i, j] = median(bench_binary).time / 1e9\n",
        "    end\n",
        "end"
      ]
    },
    {
      "cell_type": "markdown",
      "metadata": {},
      "source": [
        "## PLOTS"
      ]
    },
    {
      "cell_type": "code",
      "execution_count": null,
      "metadata": {
        "colab": {
          "base_uri": "https://localhost:8080/",
          "height": 141
        },
        "id": "s5DWCPjWkKG5",
        "outputId": "26c844dd-9a49-4568-eb9c-91c9b2cc63ad"
      },
      "outputs": [],
      "source": [
        "xtick_positions = [0, 25000, 50000, 75000, 10^5]\n",
        "xtick_labels = [\"0\", \"25.000\", \"50.000\", \"75.000\", \"100.000\"]\n",
        "\n",
        "# Ploting graphics\n",
        "for i in 1:4\n",
        "    p = plot(\n",
        "        q_values,\n",
        "        time_simple_search[i, :],\n",
        "        label = \"Simples\",\n",
        "        xlabel = \"Numero de Busca (q)\",\n",
        "        ylabel = \"Tempo (ns)\",\n",
        "        title = \"Tamanho do Vetor (n) = $(n_values[i])\",\n",
        "        legend = :topleft,\n",
        "        xticks = (xtick_positions, xtick_labels),\n",
        "        yscale = :log10,  #log scale\n",
        "        lw = 2\n",
        "    )\n",
        "    plot!(q_values, time_optimized_search[i, :], label = \"Otimizada\", lw = 2)\n",
        "    plot!(q_values, time_binary_search[i, :], label = \"Binária\", lw = 2)\n",
        "    plot!(q_values, time_sort, label = \"Ordenarção\", lw = 2)\n",
        "\n",
        "    display(p)\n",
        "    savefig(p, \"../imgs/log_10^$(i+3).png\")\n",
        "end"
      ]
    },
    {
      "cell_type": "code",
      "execution_count": null,
      "metadata": {},
      "outputs": [],
      "source": [
        "# for i in 1:4\n",
        "#     # Gráfico com escala linear\n",
        "#     p = plot(\n",
        "#         q_values,\n",
        "#         time_binary_search[i, :],\n",
        "#         label = \"Binária\",\n",
        "#         xlabel = \"Número de Busca (q)\",\n",
        "#         ylabel = \"Tempo (ns)\",\n",
        "#         title = \"Tamanho do Vetor (n) = $(n_values[i])\",\n",
        "#         legend = :topleft,\n",
        "#         xticks = (xtick_positions, xtick_labels),\n",
        "#         lw = 2\n",
        "#     )\n",
        "#     plot!(q_values, time_optimized_search[i, :], label = \"Otimizada\", lw = 2)\n",
        "#     plot!(q_values, time_sort, label = \"Ordenação\", lw = 2)\n",
        "#     plot!(q_values, time_simple_search[i, :], label = \"Simples\", lw = 2)\n",
        "\n",
        "#     display(p)\n",
        "#     savefig(p, \"../imgs/linear_10^$(i+3).png\")\n",
        "# end"
      ]
    }
  ],
  "metadata": {
    "colab": {
      "collapsed_sections": [
        "KyL1-Oajkj2Q",
        "ebXuY_OpkUXg"
      ],
      "provenance": []
    },
    "kernelspec": {
      "display_name": "Julia 1.10.4",
      "language": "julia",
      "name": "julia-1.10"
    },
    "language_info": {
      "file_extension": ".jl",
      "mimetype": "application/julia",
      "name": "julia",
      "version": "1.10.4"
    }
  },
  "nbformat": 4,
  "nbformat_minor": 0
}
