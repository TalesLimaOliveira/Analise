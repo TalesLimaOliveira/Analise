{
 "cells": [
  {
   "cell_type": "markdown",
   "metadata": {},
   "source": [
    "# INSTALL JULIA - COLAB\n",
    "\n",
    "PEGUE O SCRIPT DE TEMPLATE [AQUI](https://colab.research.google.com/drive/1lLHnAUl1kqPB6Fc1tF9r19om24DbYYFh)!"
   ]
  },
  {
   "cell_type": "code",
   "execution_count": null,
   "metadata": {},
   "outputs": [],
   "source": [
    "# %%shell\n",
    "# set -e\n",
    "\n",
    "# #---------------------------------------------------#\n",
    "# JULIA_VERSION=\"1.10.4\" # any version ≥ 0.7.0\n",
    "# JULIA_PACKAGES=\"IJulia BenchmarkTools Plots\"\n",
    "# JULIA_NUM_THREADS=2\n",
    "# #---------------------------------------------------#\n",
    "\n",
    "# if [ -z `which julia` ]; then\n",
    "# # Install Julia\n",
    "# JULIA_VER=`cut -d '.' -f -2 <<< \"$JULIA_VERSION\"`\n",
    "# echo \"Installing Julia $JULIA_VERSION on the current Colab Runtime...\"\n",
    "# BASE_URL=\"https://julialang-s3.julialang.org/bin/linux/x64\"\n",
    "# URL=\"$BASE_URL/$JULIA_VER/julia-$JULIA_VERSION-linux-x86_64.tar.gz\"\n",
    "# wget -nv $URL -O /tmp/julia.tar.gz # -nv means \"not verbose\"\n",
    "# tar -x -f /tmp/julia.tar.gz -C /usr/local --strip-components 1\n",
    "# rm /tmp/julia.tar.gz\n",
    "\n",
    "# # Install Packages\n",
    "# for PKG in `echo $JULIA_PACKAGES`; do\n",
    "#     echo \"Installing Julia package $PKG...\"\n",
    "#     julia -e 'using Pkg; pkg\"add '$PKG'; precompile;\"' &> /dev/null\n",
    "# done\n",
    "\n",
    "# # Install kernel and rename it to \"julia\"\n",
    "# echo \"Installing IJulia kernel...\"\n",
    "# julia -e 'using IJulia; IJulia.installkernel(\"julia\", env=Dict(\n",
    "#     \"JULIA_NUM_THREADS\"=>\"'\"$JULIA_NUM_THREADS\"'\"))'\n",
    "# KERNEL_DIR=`julia -e \"using IJulia; print(IJulia.kerneldir())\"`\n",
    "# KERNEL_NAME=`ls -d \"$KERNEL_DIR\"/julia*`\n",
    "# mv -f $KERNEL_NAME \"$KERNEL_DIR\"/julia\n",
    "\n",
    "# echo ''\n",
    "# echo \"Successfully installed `julia -v`!\"\n",
    "# echo \"Please reload this page (press Ctrl+R or F5) then\"\n",
    "# echo \"jump to the 'Checking the Installation' section.\"\n",
    "# fi"
   ]
  },
  {
   "cell_type": "code",
   "execution_count": null,
   "metadata": {},
   "outputs": [],
   "source": [
    "versioninfo()"
   ]
  },
  {
   "cell_type": "markdown",
   "metadata": {},
   "source": [
    "# PROJETO 1 - ANALISE DE ALGORITMO"
   ]
  },
  {
   "cell_type": "markdown",
   "metadata": {},
   "source": [
    "## LIBS & CONST"
   ]
  },
  {
   "cell_type": "code",
   "execution_count": null,
   "metadata": {},
   "outputs": [],
   "source": [
    "using Plots\n",
    "using BenchmarkTools\n",
    "using Statistics\n",
    "using Random"
   ]
  },
  {
   "cell_type": "code",
   "execution_count": null,
   "metadata": {},
   "outputs": [],
   "source": [
    "#CONSTs\n",
    "benchmark_count = 1\n",
    "img_output = \"dummy\""
   ]
  },
  {
   "cell_type": "code",
   "execution_count": null,
   "metadata": {},
   "outputs": [],
   "source": [
    "# Constants\n",
    "n_values = [10^i for i in 4:7]  # Vectors Sizes\n",
    "q_values = [10^i for i in 2:5]  # Amount of Keys"
   ]
  },
  {
   "cell_type": "code",
   "execution_count": null,
   "metadata": {},
   "outputs": [],
   "source": [
    "# Initialize the list of vectors and keys\n",
    "key_list = [collect(1:q) for q in q_values]  # K2[1-100], ..., K5[1-10^5]\n",
    "vector_list = [rand(1:10^5, n) for n in n_values]"
   ]
  },
  {
   "cell_type": "code",
   "execution_count": null,
   "metadata": {},
   "outputs": [],
   "source": [
    "# Initialize the list of timers\n",
    "time_simple = zeros(length(n_values), length(q_values))\n",
    "time_optimized = zeros(length(n_values), length(q_values))\n",
    "time_binary = zeros(length(n_values), length(q_values))\n",
    "time_insetion = zeros(length(n_values))\n",
    "time_merge = zeros(length(n_values))\n",
    "time_quick = zeros(length(n_values))"
   ]
  },
  {
   "cell_type": "markdown",
   "metadata": {},
   "source": [
    "## SEARCH FUNCTIONS"
   ]
  },
  {
   "cell_type": "code",
   "execution_count": null,
   "metadata": {},
   "outputs": [],
   "source": [
    "# Simple linear search function\n",
    "function linear_simple_search(vector, key)\n",
    "    for i in 1:length(vector)\n",
    "        if key == vector[i]\n",
    "            return i  # Returns the index where the key was found\n",
    "        end\n",
    "    end\n",
    "    return -1  # Returns -1 if the key is not found\n",
    "end"
   ]
  },
  {
   "cell_type": "code",
   "execution_count": null,
   "metadata": {},
   "outputs": [],
   "source": [
    "# Optimized linear search function\n",
    "function linear_optimized_search(vector, key)\n",
    "    for i in 1:length(vector)\n",
    "        if key == vector[i]\n",
    "            return i  # Returns the index where the key was found\n",
    "        elseif key < vector[i]\n",
    "            return -1  # Returns -1 if the key is not found\n",
    "        end\n",
    "    end\n",
    "    return -1  # Returns -1 if the key is not found\n",
    "end"
   ]
  },
  {
   "cell_type": "code",
   "execution_count": null,
   "metadata": {},
   "outputs": [],
   "source": [
    "# Binary search function\n",
    "function binary_search(vector, key)\n",
    "    low, high = 1, length(vector)\n",
    "    while low <= high\n",
    "        mid = div(low + high, 2)\n",
    "        if vector[mid] == key\n",
    "            return mid  # Returns the index where the key was found\n",
    "        elseif vector[mid] < key\n",
    "            low = mid + 1\n",
    "        else\n",
    "            high = mid - 1\n",
    "        end\n",
    "    end\n",
    "    return -1  # Returns -1 if the key is not found\n",
    "end"
   ]
  },
  {
   "cell_type": "markdown",
   "metadata": {},
   "source": [
    "## BENCHMARKING"
   ]
  },
  {
   "cell_type": "code",
   "execution_count": null,
   "metadata": {},
   "outputs": [],
   "source": [
    "# Dummy sort function\n",
    "function dummy_sort(time_matrix, sort_function)\n",
    "    for i in 1:length(vector_list)   # For each vector size\n",
    "        start = time_ns()\n",
    "        for c in 1:benchmark_count\n",
    "            sort_function!(vector_list[i])\n",
    "        end\n",
    "        time_matrix[i] = (time_ns() - start) / 1e9\n",
    "    end\n",
    "end"
   ]
  },
  {
   "cell_type": "code",
   "execution_count": null,
   "metadata": {},
   "outputs": [],
   "source": [
    "# Dummy search function\n",
    "function dummy_search(search_func, vector, keys)\n",
    "    [search_func(vector, k) for k in keys]\n",
    "end"
   ]
  },
  {
   "cell_type": "code",
   "execution_count": null,
   "metadata": {},
   "outputs": [],
   "source": [
    "# Benchmark macro\n",
    "function my_benchmark(search_func, time_matrix)\n",
    "    for i in 1:length(vector_list)   # For each vector size\n",
    "        for j in 1:length(key_list)  # For each key numbers\n",
    "            start = time_ns()\n",
    "            for c in 1:benchmark_count\n",
    "                dummy_search(search_func, [vector_list[i]], [key_list[j]])\n",
    "            end\n",
    "            time_matrix[i, j] = (time_ns() - start) / 1e9\n",
    "        end\n",
    "    end\n",
    "end"
   ]
  },
  {
   "cell_type": "code",
   "execution_count": null,
   "metadata": {},
   "outputs": [],
   "source": [
    "my_benchmark(simple_search, time_simple)"
   ]
  },
  {
   "cell_type": "code",
   "execution_count": null,
   "metadata": {},
   "outputs": [],
   "source": [
    "# Sorting the vectors - Benchmarking\n",
    "dummy_sort(time_insetion, InsertionSort)\n",
    "dummy_sort(time_merge, MergeSort)\n",
    "dummy_sort(time_quick, QuickSort)\n",
    "\n",
    "vector_list"
   ]
  },
  {
   "cell_type": "code",
   "execution_count": null,
   "metadata": {},
   "outputs": [],
   "source": [
    "my_benchmark(optimized_search, time_optimized)"
   ]
  },
  {
   "cell_type": "code",
   "execution_count": null,
   "metadata": {},
   "outputs": [],
   "source": [
    "my_benchmark(binary_search, time_binary)"
   ]
  },
  {
   "cell_type": "markdown",
   "metadata": {},
   "source": [
    "## PLOTS"
   ]
  },
  {
   "cell_type": "code",
   "execution_count": null,
   "metadata": {},
   "outputs": [],
   "source": [
    "# Plotting the results\n",
    "xtick_positions = [0, 25000, 50000, 75000, 10^5]\n",
    "xtick_labels = [\"0\", \"25.000\", \"50.000\", \"75.000\", \"100.000\"]\n",
    "\n",
    "for i in 1:length(n_values)\n",
    "    p = plot(\n",
    "        q_values,\n",
    "        time_simple[i, :],\n",
    "        label = \"Simples\",\n",
    "        xlabel = \"Número de Busca (q)\",\n",
    "        ylabel = \"Tempo (s)\",\n",
    "        title = \"Tamanho do Vetor (n) = $(n_values[i])\",\n",
    "        legend = :topleft,\n",
    "        xticks = (xtick_positions, xtick_labels),\n",
    "        yscale = :log10,  # log scale\n",
    "        lw = 2\n",
    "    )\n",
    "    plot!(q_values, time_optimized[i, :], label = \"Otimizada\", lw = 2)\n",
    "    plot!(q_values, time_binary[i, :], label = \"Binária\", lw = 2)\n",
    "    # plot!(q_values, time_sort[i] .* ones(length(q_values)), label = \"Ordenação\", lw = 2)\n",
    "\n",
    "    display(p)\n",
    "    savefig(p, \"../imgs/n_size/log/$(img_output)_10^$(i+3).jpg\")\n",
    "end"
   ]
  },
  {
   "cell_type": "code",
   "execution_count": null,
   "metadata": {},
   "outputs": [],
   "source": [
    "xtick_positions = [0, 25000, 50000, 75000, 10^5]\n",
    "xtick_labels = [\"0\", \"25.000\", \"50.000\", \"75.000\", \"100.000\"]\n",
    "\n",
    "# Ploting graphics\n",
    "for i in 1:4\n",
    "    p = plot(\n",
    "        q_values,\n",
    "        time_simple [i, :],\n",
    "        label = \"Simples\",\n",
    "        xlabel = \"Numero de Busca (q)\",\n",
    "        ylabel = \"Tempo (ns)\",\n",
    "        title = \"Tamanho do Vetor (n) = $(n_values[i])\",\n",
    "        legend = :topleft,\n",
    "        xticks = (xtick_positions, xtick_labels),\n",
    "        lw = 2\n",
    "    )\n",
    "    plot!(q_values, time_optimized[i, :], label = \"Otmizada\", lw = 2)\n",
    "    plot!(q_values, time_binary[i, :], label = \"Binária\", lw = 2)\n",
    "    # plot!(q_values, time_sort, label = \"Ordenarção\", lw = 2)\n",
    "\n",
    "    display(p)\n",
    "    savefig(p, \"../imgs/n_size/linear/$(img_output)_10^$(i+3).png\")\n",
    "end"
   ]
  },
  {
   "cell_type": "code",
   "execution_count": null,
   "metadata": {},
   "outputs": [],
   "source": [
    "xtick_positions = [1, 2500000, 5000000, 7500000, 10^7]\n",
    "xtick_labels = [\"1\", \"2.500.000\", \"5.000.000\", \"7.500.000\", \"10^7\"]\n",
    "\n",
    "# Ploting graphics\n",
    "for i in 1:4\n",
    "    p = plot(\n",
    "        n_values,\n",
    "        time_simple[:, i],\n",
    "        label = \"Simples\",\n",
    "        xlabel = \"Tamanho do Vetor (n)\",\n",
    "        ylabel = \"Tempo (s)\",\n",
    "        title = \"Numero de Busca (q) = $(q_values[i])\",\n",
    "        legend = :topleft,\n",
    "        yscale = :log10,\n",
    "        xticks = (xtick_positions, xtick_labels),\n",
    "        lw = 2\n",
    "    )\n",
    "    plot!(n_values, time_optimized[:, i], label = \"Otmizada\", lw = 2)\n",
    "    plot!(n_values, time_binary[:, i], label = \"Binária\", lw = 2)\n",
    "    # plot!(n_values, time_sort, label = \"Ordenarção\", lw = 2)\n",
    "\n",
    "    display(p)\n",
    "    savefig(p, \"../imgs/q_size/log/$(img_output)Tempo_10^$(i+1).png\")\n",
    "end"
   ]
  },
  {
   "cell_type": "code",
   "execution_count": null,
   "metadata": {},
   "outputs": [],
   "source": [
    "xtick_positions = [10^5, 2500000, 5000000, 7500000, 10^7]\n",
    "xtick_labels = [\"100.000\", \"2.500.000\", \"5.000.000\", \"7.500.000\", \"10.000.000\"]\n",
    "\n",
    "# Ploting graphics\n",
    "for i in 1:4\n",
    "    p = plot(\n",
    "        n_values,\n",
    "        time_simple[:, i],\n",
    "        label = \"Simples\",\n",
    "        xlabel = \"Tamanho do Vetor (n)\",\n",
    "        ylabel = \"Tempo (ns)\",\n",
    "        title = \"Numero de Busca (q) = $(q_values[i])\",\n",
    "        legend = :topright,\n",
    "        xlims = (10^5, 10^7),\n",
    "        xticks = (xtick_positions, xtick_labels),\n",
    "        lw = 2\n",
    "    )\n",
    "    \n",
    "    plot!(n_values, time_optimized[:, i], label = \"Otmizada\", lw = 2)\n",
    "    plot!(n_values, time_binary[:, i], label = \"Binária\", lw = 2)\n",
    "    # plot!(n_values, time_sort, label = \"Ordenarção\", lw = 2)\n",
    "\n",
    "\n",
    "    display(p)\n",
    "    savefig(p, \"../imgs/q_size/linear/$(img_output)_10^$(i+1).png\")\n",
    "end"
   ]
  }
 ],
 "metadata": {
  "kernelspec": {
   "display_name": "Julia 1.10.4",
   "language": "julia",
   "name": "julia-1.10"
  },
  "language_info": {
   "file_extension": ".jl",
   "mimetype": "application/julia",
   "name": "julia",
   "version": "1.10.4"
  }
 },
 "nbformat": 4,
 "nbformat_minor": 2
}
