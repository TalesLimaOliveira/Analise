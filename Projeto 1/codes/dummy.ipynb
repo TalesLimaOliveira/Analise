{
 "cells": [
  {
   "cell_type": "code",
   "execution_count": null,
   "metadata": {},
   "outputs": [],
   "source": [
    "using Random\n",
    "using Plots"
   ]
  },
  {
   "cell_type": "code",
   "execution_count": null,
   "metadata": {},
   "outputs": [],
   "source": [
    "# Constants\n",
    "my_count = 1\n",
    "n_values = [10^i for i in 4:7]  # Vectors Sizes\n",
    "q_values = [10^i for i in 2:5]  # Amount of Keys\n",
    "\n",
    "# Initialize the list of vectors and keys\n",
    "vector_list = [rand(1:10^5, n) for n in n_values]\n",
    "key_list = [collect(1:q) for q in q_values]  # K2[1-100], ..., K5[1-10^5]\n",
    "\n",
    "# Initialize the list of timers\n",
    "time_simple_search = zeros(length(n_values), length(q_values))\n",
    "time_optimized_search = zeros(length(n_values), length(q_values))\n",
    "time_binary_search = zeros(length(n_values), length(q_values))\n",
    "time_sort = zeros(length(n_values))"
   ]
  },
  {
   "cell_type": "code",
   "execution_count": null,
   "metadata": {},
   "outputs": [],
   "source": [
    "# Simple linear search function\n",
    "function simple_search(vector, key)\n",
    "    for i in 1:length(vector)\n",
    "        if key == vector[i]\n",
    "            return i  # Returns the index where the key was found\n",
    "        end\n",
    "    end\n",
    "    return -1  # Returns -1 if the key is not found\n",
    "end"
   ]
  },
  {
   "cell_type": "code",
   "execution_count": null,
   "metadata": {},
   "outputs": [],
   "source": [
    "# Optimized linear search function\n",
    "function optimized_search(vector, key)\n",
    "    for i in 1:length(vector)\n",
    "        if key == vector[i]\n",
    "            return i  # Returns the index where the key was found\n",
    "        elseif key < vector[i]\n",
    "            return -1  # Returns -1 if the key is not found\n",
    "        end\n",
    "    end\n",
    "    return -1  # Returns -1 if the key is not found\n",
    "end"
   ]
  },
  {
   "cell_type": "code",
   "execution_count": null,
   "metadata": {},
   "outputs": [],
   "source": [
    "# Binary search function\n",
    "function binary_search(vector, key)\n",
    "    low, high = 1, length(vector)\n",
    "    while low <= high\n",
    "        mid = div(low + high, 2)\n",
    "        if vector[mid] == key\n",
    "            return mid  # Returns the index where the key was found\n",
    "        elseif vector[mid] < key\n",
    "            low = mid + 1\n",
    "        else\n",
    "            high = mid - 1\n",
    "        end\n",
    "    end\n",
    "    return -1  # Returns -1 if the key is not found\n",
    "end"
   ]
  },
  {
   "cell_type": "code",
   "execution_count": null,
   "metadata": {},
   "outputs": [],
   "source": [
    "# Dummy search function\n",
    "function dummy_search(search_func, vector, keys)\n",
    "    [search_func(vector, k) for k in keys]\n",
    "end"
   ]
  },
  {
   "cell_type": "code",
   "execution_count": null,
   "metadata": {},
   "outputs": [],
   "source": [
    "# Benchmark macro\n",
    "function my_benchmark(search_func, time_matrix)\n",
    "    for i in 1:length(vector_list)   # For each vector size\n",
    "        for j in 1:length(key_list)  # For each key numbers\n",
    "            start = time_ns()\n",
    "            for c in 1:my_count\n",
    "                dummy_search(search_func, [vector_list[i]], [key_list[j]])\n",
    "            end\n",
    "            time_matrix[i, j] = (time_ns() - start) / 1e9\n",
    "        end\n",
    "    end\n",
    "end"
   ]
  },
  {
   "cell_type": "code",
   "execution_count": null,
   "metadata": {},
   "outputs": [],
   "source": [
    "my_benchmark(simple_search, time_simple_search)"
   ]
  },
  {
   "cell_type": "code",
   "execution_count": null,
   "metadata": {},
   "outputs": [],
   "source": [
    "# Sorting the vectors - Benchmarking\n",
    "for i in 1:length(vector_list)   # For each vector size\n",
    "    start = time_ns()\n",
    "    for c in 1:my_count\n",
    "        vector_list[i] = sort(vector_list[i])\n",
    "    end\n",
    "    time_sort[i] = (time_ns() - start) / 1e9\n",
    "end\n",
    "\n",
    "vector_list"
   ]
  },
  {
   "cell_type": "code",
   "execution_count": null,
   "metadata": {},
   "outputs": [],
   "source": [
    "my_benchmark(optimized_search, time_optimized_search)"
   ]
  },
  {
   "cell_type": "code",
   "execution_count": null,
   "metadata": {},
   "outputs": [],
   "source": [
    "my_benchmark(binary_search, time_binary_search)"
   ]
  },
  {
   "cell_type": "code",
   "execution_count": null,
   "metadata": {},
   "outputs": [],
   "source": [
    "# Plotting the results\n",
    "xtick_positions = [0, 25000, 50000, 75000, 10^5]\n",
    "xtick_labels = [\"0\", \"25.000\", \"50.000\", \"75.000\", \"100.000\"]\n",
    "\n",
    "for i in 1:length(n_values)\n",
    "    p = plot(\n",
    "        q_values,\n",
    "        time_simple_search[i, :],\n",
    "        label = \"Simples\",\n",
    "        xlabel = \"Número de Busca (q)\",\n",
    "        ylabel = \"Tempo (s)\",\n",
    "        title = \"Tamanho do Vetor (n) = $(n_values[i])\",\n",
    "        legend = :topleft,\n",
    "        xticks = (xtick_positions, xtick_labels),\n",
    "        yscale = :log10,  # log scale\n",
    "        lw = 2\n",
    "    )\n",
    "    plot!(p, q_values, time_optimized_search[i, :], label = \"Otimizada\", lw = 2)\n",
    "    plot!(p, q_values, time_binary_search[i, :], label = \"Binária\", lw = 2)\n",
    "    plot!(p, q_values, time_sort[i] .* ones(length(q_values)), label = \"Ordenação\", lw = 2)\n",
    "\n",
    "    display(p)\n",
    "    savefig(p, \"../imgs/log_10^$(i+3).png\")\n",
    "end"
   ]
  }
 ],
 "metadata": {
  "kernelspec": {
   "display_name": "Julia 1.10.4",
   "language": "julia",
   "name": "julia-1.10"
  },
  "language_info": {
   "file_extension": ".jl",
   "mimetype": "application/julia",
   "name": "julia",
   "version": "1.10.4"
  }
 },
 "nbformat": 4,
 "nbformat_minor": 2
}
