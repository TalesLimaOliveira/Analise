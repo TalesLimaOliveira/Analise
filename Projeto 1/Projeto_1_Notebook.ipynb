{
  "cells": [
    {
      "cell_type": "markdown",
      "metadata": {
        "id": "-KkOAszmQxwF"
      },
      "source": [
        "# PROJETO 1 - ANALISE DE ALGORITMO"
      ]
    },
    {
      "cell_type": "code",
      "execution_count": null,
      "metadata": {
        "id": "wu2l79_iUzyV"
      },
      "outputs": [],
      "source": [
        "using BenchmarkTools\n",
        "using Plots\n",
        "using Statistics"
      ]
    },
    {
      "cell_type": "markdown",
      "metadata": {
        "id": "KyL1-Oajkj2Q"
      },
      "source": [
        "## VECTOR GENERATOR - SIZE(N & Q)"
      ]
    },
    {
      "cell_type": "code",
      "execution_count": null,
      "metadata": {
        "colab": {
          "base_uri": "https://localhost:8080/"
        },
        "id": "83WAVLPojwWQ",
        "outputId": "4d13d4b2-43a6-4790-f6bc-6ab6106ee022"
      },
      "outputs": [],
      "source": [
        "# Function to generate a vector of random values\n",
        "function generate_vectors(size::Int, upper_limit::Int)\n",
        "    return rand(1:upper_limit, size)\n",
        "end"
      ]
    },
    {
      "cell_type": "code",
      "execution_count": null,
      "metadata": {
        "colab": {
          "base_uri": "https://localhost:8080/"
        },
        "id": "gjY3CYg5jySg",
        "outputId": "b4404afe-bc9c-4677-d525-753431db8e59"
      },
      "outputs": [],
      "source": [
        "# Function to generate a random key\n",
        "function generate_keys(size::Int, upper_limit::Int)\n",
        "    return rand(1:upper_limit, size)\n",
        "end"
      ]
    },
    {
      "cell_type": "markdown",
      "metadata": {
        "id": "ebXuY_OpkUXg"
      },
      "source": [
        "## SEARCH FUNTIONS"
      ]
    },
    {
      "cell_type": "code",
      "execution_count": null,
      "metadata": {
        "colab": {
          "base_uri": "https://localhost:8080/"
        },
        "id": "8GLOA4oGkObh",
        "outputId": "49b96ced-ae61-4b5b-9d46-e92b5546ac7d"
      },
      "outputs": [],
      "source": [
        "# Simple linear search function\n",
        "function simple_search(vector, key)\n",
        "    for i in 1:length(vector)\n",
        "        if vector[i] == key\n",
        "            return i  # Returns the index where the key was found\n",
        "        end\n",
        "    end\n",
        "    return -1  # Returns -1 if the key is not found\n",
        "end"
      ]
    },
    {
      "cell_type": "code",
      "execution_count": null,
      "metadata": {
        "colab": {
          "base_uri": "https://localhost:8080/"
        },
        "id": "0YNySzG2kP2o",
        "outputId": "79f07131-807a-4e58-c434-2b62912402bd"
      },
      "outputs": [],
      "source": [
        "# Optimized linear search function\n",
        "function optimized_search(sorted_vector, key)\n",
        "    for i in 1:length(sorted_vector)\n",
        "        if key == sorted_vector[i]\n",
        "            return i  # Returns the index where the key was found\n",
        "        elseif key < sorted_vector[i]\n",
        "            return -1  # Returns -1 if the key is not found\n",
        "        end\n",
        "    end\n",
        "    return -1  # Returns -1 if the key is not found\n",
        "end"
      ]
    },
    {
      "cell_type": "code",
      "execution_count": null,
      "metadata": {
        "colab": {
          "base_uri": "https://localhost:8080/"
        },
        "id": "Y5D2SdW2kTAw",
        "outputId": "8b497365-a1d8-42dd-a1a7-84bda481f0f8"
      },
      "outputs": [],
      "source": [
        "# Binary search function\n",
        "function binary_search(sorted_vector, key)\n",
        "    low = 1\n",
        "    high = length(sorted_vector)\n",
        "\n",
        "    while low <= high\n",
        "        mid = (low + high) ÷ 2\n",
        "        if sorted_vector[mid] == key\n",
        "            return mid  # Returns the index where the key was found\n",
        "        elseif sorted_vector[mid] < key\n",
        "            low = mid + 1\n",
        "        else\n",
        "            high = mid - 1\n",
        "        end\n",
        "    end\n",
        "    return -1  # Returns -1 if the key is not found\n",
        "end"
      ]
    },
    {
      "cell_type": "markdown",
      "metadata": {
        "id": "qqX3zPopket4"
      },
      "source": [
        "## MAIN - BENCHMARK AND PLOTS"
      ]
    },
    {
      "cell_type": "code",
      "execution_count": null,
      "metadata": {
        "colab": {
          "base_uri": "https://localhost:8080/"
        },
        "id": "WE52pkGunJgo",
        "outputId": "48678910-cf21-4f6a-9179-0dda601d7613"
      },
      "outputs": [],
      "source": [
        "# VARS\n",
        "upper_limit = 1000 # Upper limit for generating random numbers\n",
        "n_values = [10^4, 10^5, 10^6, 10^7]  # Vectors Sizes\n",
        "q_values = [10^2, 10^3, 10^4, 10^5]  # Amount of Keys\n",
        "\n",
        "# Initialize the list of vectors and keys\n",
        "vector_list = [generate_vectors(n, upper_limit) for n in n_values]\n",
        "key_list = [generate_keys(q, upper_limit) for q in q_values]\n",
        "\n",
        "# Initialize the list of timers\n",
        "time_simple_search = Matrix{Float64}(undef, length(n_values), length(q_values))\n",
        "time_optimized_search = Matrix{Float64}(undef, length(n_values), length(q_values))\n",
        "time_binary_search = Matrix{Float64}(undef, length(n_values), length(q_values))\n",
        "time_to_sort = Vector{Float64}(undef, length(n_values))"
      ]
    },
    {
      "cell_type": "code",
      "execution_count": null,
      "metadata": {
        "colab": {
          "base_uri": "https://localhost:8080/",
          "height": 141
        },
        "id": "hYRWSenBn2eJ",
        "outputId": "80f4f43b-d149-489b-9932-814d9e397e8d"
      },
      "outputs": [],
      "source": [
        "# Simple linear search - Benchmarking\n",
        "for i in 1:length(n_values)  # For each vector size\n",
        "    for j in 1:length(q_values)  # For each key numbers\n",
        "        times = @benchmark begin\n",
        "            for key in key_list[j]\n",
        "                sequential_search(vector_list[i], key)\n",
        "            end\n",
        "        time_simple_search[i, j] = minimum(times).time / 1e9\n",
        "    end\n",
        "end"
      ]
    },
    {
      "cell_type": "code",
      "execution_count": null,
      "metadata": {
        "colab": {
          "base_uri": "https://localhost:8080/",
          "height": 540
        },
        "id": "8P6RPNSYn42h",
        "outputId": "7ffb6593-ba4f-4b45-cdf7-1e30947964b4"
      },
      "outputs": [],
      "source": [
        "# Sorting the vectors - Benchmarking\n",
        "for i in 1:length(n_values)   # For each vector size\n",
        "    times = @benchmark sort(vector_list[i]) # Do the benchmark sort\n",
        "    time_to_sort[i] = minimum(times).time / 1e9\n",
        "    vector_list[i] = sort(vector_list[i])  # Sort the vectors\n",
        "end"
      ]
    },
    {
      "cell_type": "code",
      "execution_count": null,
      "metadata": {
        "colab": {
          "base_uri": "https://localhost:8080/",
          "height": 141
        },
        "id": "LeebN9Vun8Ka",
        "outputId": "ca657473-42ba-48fe-c41d-9e4b1e7a52dc"
      },
      "outputs": [],
      "source": [
        "# Optimized Linear search - Benchmarking\n",
        "for i in 1:length(n_values)   # For each vector size\n",
        "    for j in 1:length(q_values)  # For each key numbers\n",
        "        times = @benchmark begin\n",
        "            for key in key_list[j]\n",
        "                optimized_search(vector_list[i], key)\n",
        "            end\n",
        "        time_optimized_search[i, j] = minimum(times).time / 1e9\n",
        "    end\n",
        "end"
      ]
    },
    {
      "cell_type": "code",
      "execution_count": null,
      "metadata": {
        "colab": {
          "base_uri": "https://localhost:8080/",
          "height": 141
        },
        "id": "Ze0Do-e_n-sR",
        "outputId": "b354aad2-cc46-4cfe-c9e1-da503f21b1c3"
      },
      "outputs": [],
      "source": [
        "# Binary search - Benchmarking\n",
        "for i in 1:length(n_values)   # For each vector size\n",
        "    for j in 1:length(q_values)  # For each key numbers\n",
        "        times = @benchmark begin\n",
        "            for key in key_list[j]\n",
        "                binary_search(vector_list[i], key)\n",
        "            end\n",
        "        time_binary_search[i, j] = minimum(times).time / 1e9\n",
        "    end\n",
        "end"
      ]
    },
    {
      "cell_type": "code",
      "execution_count": null,
      "metadata": {
        "colab": {
          "base_uri": "https://localhost:8080/"
        },
        "id": "1hEvk_s0kHOo",
        "outputId": "c4c7fd51-95e1-4079-ed37-61371e5d49cc"
      },
      "outputs": [],
      "source": [
        "# Function to verify time results\n",
        "println(\"Tempos de Pesquisa Simples: \", time_simple_search)\n",
        "println(\"Tempo para Ordenar: \", time_to_sort)\n",
        "println(\"Tempos de Pesquisa Otimizada: \", time_optimized_search)\n",
        "println(\"Tempos de Pesquisa Binária: \", time_binary_search)"
      ]
    },
    {
      "cell_type": "code",
      "execution_count": null,
      "metadata": {
        "colab": {
          "base_uri": "https://localhost:8080/",
          "height": 141
        },
        "id": "s5DWCPjWkKG5",
        "outputId": "26c844dd-9a49-4568-eb9c-91c9b2cc63ad"
      },
      "outputs": [],
      "source": [
        "# Ploting graphics\n",
        "for j in 1:length(q_values)\n",
        "    p = plot(\n",
        "        n_values,\n",
        "        time_simple_search[:, j],\n",
        "        label = \"Pesquisa Linear Simples\",\n",
        "        xlabel = \"Tamanho do Vetor (n)\",\n",
        "        ylabel = \"Tempo (s)\",\n",
        "        title = \"q = $(q_values[j])\",\n",
        "        legend = :topleft,\n",
        "        lw = 2  # Line Width\n",
        "    )\n",
        "    plot!(\n",
        "        n_values,\n",
        "        time_to_sort,\n",
        "        label = \"Tempo para Ordenar\",\n",
        "        lw = 2 # Line Width\n",
        "    )\n",
        "    plot!(\n",
        "        n_values,\n",
        "        time_optimized_search[:, j],\n",
        "        label = \"Pesquisa Linear Otimizada\",\n",
        "        lw = 2 # Line Width\n",
        "    )\n",
        "    plot!(\n",
        "        n_values,\n",
        "        time_binary_search[:, j],\n",
        "        label = \"Pesquisa Binária\",\n",
        "        lw = 2 # Line Width\n",
        "    )\n",
        "\n",
        "    display(p)"
      ]
    }
  ],
  "metadata": {
    "colab": {
      "collapsed_sections": [
        "KyL1-Oajkj2Q",
        "ebXuY_OpkUXg"
      ],
      "provenance": []
    },
    "kernelspec": {
      "display_name": "Julia",
      "language": "julia",
      "name": "julia"
    },
    "language_info": {
      "file_extension": ".jl",
      "mimetype": "application/julia",
      "name": "julia"
    }
  },
  "nbformat": 4,
  "nbformat_minor": 0
}
